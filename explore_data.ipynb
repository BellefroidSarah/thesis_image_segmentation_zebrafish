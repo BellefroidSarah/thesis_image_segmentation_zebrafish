{
 "cells": [
  {
   "cell_type": "markdown",
   "id": "67ac05f6",
   "metadata": {},
   "source": [
    "# Explore Data\n",
    "This notebook explores the dataset. For each type of annotation it computes the percentage of pixels belonging to the class in the dataset. It also computes the average width and height of the segmentation masks."
   ]
  },
  {
   "cell_type": "code",
   "execution_count": null,
   "id": "29c7135b",
   "metadata": {},
   "outputs": [],
   "source": [
    "import os\n",
    "import torch\n",
    "\n",
    "import torchvision.transforms as transforms\n",
    "import numpy as np\n",
    "import constants as cst\n",
    "\n",
    "from torchvision.ops import masks_to_boxes\n",
    "from PIL import Image"
   ]
  },
  {
   "cell_type": "code",
   "execution_count": null,
   "id": "016422a6",
   "metadata": {},
   "outputs": [],
   "source": [
    "transform = transforms.ToTensor()\n",
    "total_pixels = 1932 * 2576\n",
    "\n",
    "TERMS = cst.TERM_NAMES\n",
    "\n",
    "for term in TERMS:\n",
    "    mask_folder = \"/notebooks/\" + term\n",
    "    \n",
    "    percent_pixels = []\n",
    "    horizontal_lengths = []\n",
    "    vertical_lengths = []\n",
    "    for file in os.listdir(mask_folder):\n",
    "        mask = transform(Image.open(os.path.join(mask_folder, file)))\n",
    "        mask = mask.type(torch.LongTensor)\n",
    "        \n",
    "        pixels = int(mask.sum())\n",
    "        \n",
    "        percent_pixels.append(pixels/total_pixels)\n",
    "        \n",
    "        obj_ids = torch.unique(mask)\n",
    "        obj_ids = obj_ids[1:]\n",
    "        \n",
    "        masks = mask == obj_ids[:, None, None]\n",
    "        \n",
    "        box = masks_to_boxes(masks)\n",
    "        \n",
    "        h = box[0, 2].item() - box[0, 0].item()\n",
    "        v = box[0, 3].item() - box[0, 1].item()\n",
    "        horizontal_lengths.append(h)\n",
    "        vertical_lengths.append(v)\n",
    "        \n",
    "    print(\"Term: \" + term)\n",
    "    print(\"Mean percentage of pixels: \" + str(np.mean(percent_pixels) * 100))\n",
    "    print(\"Mean horizontal: \" + str(np.mean(horizontal_lengths)))\n",
    "    print(\"Mean vertical: \" + str(np.mean(vertical_lengths)))\n",
    "    print()"
   ]
  }
 ],
 "metadata": {
  "kernelspec": {
   "display_name": "Python 3 (ipykernel)",
   "language": "python",
   "name": "python3"
  },
  "language_info": {
   "codemirror_mode": {
    "name": "ipython",
    "version": 3
   },
   "file_extension": ".py",
   "mimetype": "text/x-python",
   "name": "python",
   "nbconvert_exporter": "python",
   "pygments_lexer": "ipython3",
   "version": "3.9.13"
  }
 },
 "nbformat": 4,
 "nbformat_minor": 5
}
